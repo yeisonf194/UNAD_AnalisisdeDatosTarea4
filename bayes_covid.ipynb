{
 "cells": [
  {
   "cell_type": "code",
   "execution_count": 1,
   "id": "704ef944-c013-45d3-a3dc-55b97567d206",
   "metadata": {},
   "outputs": [
    {
     "name": "stdout",
     "output_type": "stream",
     "text": [
      "La probabilidad de que el paciente tenga COVID-19 dados los sintomas es: 0.9999999998295609\n"
     ]
    }
   ],
   "source": [
    "#Definir las probabilidades condicionales de los sintomas dado COVID-19\n",
    "p_fatiga_given_covid = 0.90\n",
    "p_tos_seca_given_covid = 0.70\n",
    "p_dificultad_respirar_given_covid = 0.60\n",
    "p_dolor_garganta_given_covid = 0.50\n",
    "p_dolor_cabeza_given_covid = 0.60\n",
    "p_dolor_cuerpo_given_covid = 0.50\n",
    "p_escalofrios_given_covid = 0.40\n",
    "p_secrecion_nasal_given_covid = 0.20\n",
    "p_perdida_sentido_given_covid = 0.50\n",
    "p_fiebre_given_covid = 0.80\n",
    "p_dolor_pecho_given_covid = 0.30\n",
    "\n",
    "#Definir la prevalencia de COVID-19 en la poblacion\n",
    "p_covid = 0.05\n",
    "\n",
    "# Definir los síntomas observados en eL paciente\n",
    "sintomas = ['Fatiga','Tos seca','Dificultad para respirar','Dolor de garganta',\n",
    "          'Dolor de cabeza','Dolor en el cuerpo','Escalofríos','Secreción nasal',\n",
    "          'Perdida del sentido del olfato o del gusto','Fiebre','Dolor de pecho']\n",
    "\n",
    "# Calcular La probabilidad de que el paciente tenga COVID-19\n",
    "p_sintomas_given_covid = p_fatiga_given_covid * p_tos_seca_given_covid * p_dificultad_respirar_given_covid * \\\n",
    "                         p_dolor_garganta_given_covid * p_dolor_cabeza_given_covid * p_dolor_cuerpo_given_covid * \\\n",
    "                         p_escalofrios_given_covid * p_secrecion_nasal_given_covid * p_perdida_sentido_given_covid * \\\n",
    "                         p_fiebre_given_covid * p_dolor_pecho_given_covid\n",
    "\n",
    "p_sintomas_given_no_covid = 0.05 ** 11 # asumimos que la probabilidad de tener estos sintomas sin COVID-19 es muy bajo\n",
    "\n",
    "p_sintomas = p_sintomas_given_covid * p_covid + p_sintomas_given_no_covid * (1 - p_covid)\n",
    "\n",
    "p_covid_given_sintomas = p_sintomas_given_covid * p_covid / p_sintomas\n",
    "\n",
    "print(f\"La probabilidad de que el paciente tenga COVID-19 dados los sintomas es: {p_covid_given_sintomas}\")"
   ]
  },
  {
   "cell_type": "code",
   "execution_count": null,
   "id": "eefe7ad4-9a02-40cc-90ae-d5142b53a99c",
   "metadata": {},
   "outputs": [],
   "source": []
  }
 ],
 "metadata": {
  "kernelspec": {
   "display_name": "Python 3 (ipykernel)",
   "language": "python",
   "name": "python3"
  },
  "language_info": {
   "codemirror_mode": {
    "name": "ipython",
    "version": 3
   },
   "file_extension": ".py",
   "mimetype": "text/x-python",
   "name": "python",
   "nbconvert_exporter": "python",
   "pygments_lexer": "ipython3",
   "version": "3.9.13"
  }
 },
 "nbformat": 4,
 "nbformat_minor": 5
}
